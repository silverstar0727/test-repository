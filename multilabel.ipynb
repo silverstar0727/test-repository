{
  "nbformat": 4,
  "nbformat_minor": 0,
  "metadata": {
    "kernelspec": {
      "display_name": "Python 3",
      "language": "python",
      "name": "python3"
    },
    "language_info": {
      "codemirror_mode": {
        "name": "ipython",
        "version": 3
      },
      "file_extension": ".py",
      "mimetype": "text/x-python",
      "name": "python",
      "nbconvert_exporter": "python",
      "pygments_lexer": "ipython3",
      "version": "3.8.3"
    },
    "colab": {
      "name": "multilabel.ipynb",
      "provenance": [],
      "collapsed_sections": []
    }
  },
  "cells": [
    {
      "cell_type": "code",
      "metadata": {
        "id": "PNiitwQ0Di1k"
      },
      "source": [
        "pip install upsetplot"
      ],
      "execution_count": null,
      "outputs": []
    },
    {
      "cell_type": "code",
      "metadata": {
        "id": "r0Oj8cuyDxNa"
      },
      "source": [
        "pip install pROC"
      ],
      "execution_count": null,
      "outputs": []
    },
    {
      "cell_type": "code",
      "metadata": {
        "id": "rrYVKg7QHN-k"
      },
      "source": [
        "pip install iterative-stratification"
      ],
      "execution_count": null,
      "outputs": []
    },
    {
      "cell_type": "code",
      "metadata": {
        "id": "PSvK_dBzDd_e"
      },
      "source": [
        "import pandas as pd\n",
        "import numpy as np\n",
        "from sklearn.model_selection import train_test_split\n",
        "from sklearn.ensemble import RandomForestClassifier\n",
        "from sklearn.metrics import classification_report\n",
        "import matplotlib.pyplot as plt\n",
        "from matplotlib_venn import venn3\n",
        "from upsetplot import UpSet\n",
        "from upsetplot import plot\n",
        "from iterstrat.ml_stratifiers import MultilabelStratifiedKFold\n",
        "import sklearn\n",
        "from sklearn.metrics import accuracy_score, recall_score, roc_auc_score, precision_score\n",
        "#from delong import auc_ci\n",
        "import scipy.stats"
      ],
      "execution_count": null,
      "outputs": []
    },
    {
      "cell_type": "code",
      "metadata": {
        "id": "7i7aU54zDd_g"
      },
      "source": [
        "def mean_confidence_interval(data, confidence=0.95):\n",
        "    a = 1.0 * np.array(data)\n",
        "    n = len(a)\n",
        "    m, se = np.mean(a), scipy.stats.sem(a)\n",
        "    h = se * scipy.stats.t.ppf((1 + confidence) / 2, n-1)\n",
        "    return m, m-h, m+h"
      ],
      "execution_count": null,
      "outputs": []
    },
    {
      "cell_type": "code",
      "metadata": {
        "colab": {
          "base_uri": "https://localhost:8080/"
        },
        "id": "cWRIBT__FbXf",
        "outputId": "8078df77-15d7-498b-9be3-699a15a944cb"
      },
      "source": [
        "from google.colab import drive\n",
        "drive.mount('/content/drive')\n",
        "\n",
        "root = \"/content/drive/MyDrive/CCIDS\""
      ],
      "execution_count": null,
      "outputs": [
        {
          "output_type": "stream",
          "text": [
            "Drive already mounted at /content/drive; to attempt to forcibly remount, call drive.mount(\"/content/drive\", force_remount=True).\n"
          ],
          "name": "stdout"
        }
      ]
    },
    {
      "cell_type": "code",
      "metadata": {
        "id": "reP8hj_tFrYl"
      },
      "source": [
        "csv = pd.read_csv('/content/drive/MyDrive/CCIDS/210807_multilabel_binCount_32.csv')\n",
        "clf = RandomForestClassifier(n_jobs=-1, random_state=42)"
      ],
      "execution_count": null,
      "outputs": []
    },
    {
      "cell_type": "code",
      "metadata": {
        "scrolled": true,
        "id": "rSum_WXuDd_h"
      },
      "source": [
        "auc = []; acc = []; rec = []; pre = [];\n",
        "                                                                                \n",
        "skf = MultilabelStratifiedKFold(n_splits=3, shuffle=True, random_state=42)\n",
        "\n",
        "X = csv.drop(['ID', 'DrD2', 'SSTR2', 'SSTR5'], axis=1).values\n",
        "y = csv[['DrD2', 'SSTR2', 'SSTR5']].values\n",
        "for train_index, test_index in skf.split(X, y):\n",
        "    X_train, X_test = X[train_index], X[test_index]\n",
        "    y_train, y_test = y[train_index], y[test_index]\n",
        "    \n",
        "    clf = sklearn.base.clone(clf); clf.fit(X_train, y_train)\n",
        "    skf_pred = clf.predict(X_test); skf_proba = clf.predict_proba(X_test)\n",
        "    \n",
        "    DrD2 = []; SSTR2 = []; SSTR5 = [];\n",
        "    for i in range(len(skf_pred)) : \n",
        "      DrD2.append(skf_pred[i,0])\n",
        "      SSTR2.append(skf_pred[i,1])\n",
        "      SSTR5.append(skf_pred[i,2])\n",
        "\n",
        "    auc.append(roc_auc_score(y_test, skf_pred, average='weighted'))\n",
        "    acc.append(accuracy_score(y_test, skf_pred))\n",
        "    rec.append(recall_score(y_test, skf_pred, average='weighted'))\n",
        "    pre.append(precision_score(y_test, skf_pred, average='weighted'))"
      ],
      "execution_count": null,
      "outputs": []
    },
    {
      "cell_type": "code",
      "metadata": {
        "scrolled": true,
        "id": "DIy2fb5NDd_i"
      },
      "source": [
        "train, test = train_test_split(csv, stratify=csv[['DrD2', 'SSTR2', 'SSTR5']], test_size=0.4, random_state=42)\n",
        "# train.to_csv('210807_multilabel_binCount_train.csv', mode='w', header=True, index=False)\n",
        "# test.to_csv('210807_multilabel_binCount_test.csv', mode='w', header=True, index=False)\n",
        "\n",
        "X_train = train.drop(['ID', 'DrD2', 'SSTR2', 'SSTR5'], axis=1).values\n",
        "y_train = train[['DrD2', 'SSTR2', 'SSTR5']].values\n",
        "X_test = test.drop(['ID', 'DrD2', 'SSTR2', 'SSTR5'], axis=1).values\n",
        "y_test = test[['DrD2', 'SSTR2', 'SSTR5']].values"
      ],
      "execution_count": 121,
      "outputs": []
    },
    {
      "cell_type": "code",
      "metadata": {
        "id": "29CBwdS2Dd_j"
      },
      "source": [
        "clf = sklearn.base.clone(clf); clf.fit(X_train, y_train)\n",
        "test_pred = clf.predict(X_test); test_proba = clf.predict_proba(X_test)\n",
        "test_auc = roc_auc_score(y_test, test_pred, average='weighted')\n",
        "test_acc = accuracy_score(y_test, test_pred)\n",
        "test_rec = recall_score(y_test, test_pred, average='weighted')\n",
        "test_pre = precision_score(y_test, test_pred, average='weighted')"
      ],
      "execution_count": 122,
      "outputs": []
    },
    {
      "cell_type": "code",
      "metadata": {
        "scrolled": false,
        "id": "HUrW3hGgDd_j"
      },
      "source": [
        "train_dict = {'train_auc' : np.mean(auc), 'train_auc_95lower' : mean_confidence_interval(auc)[1], 'train_auc_95upper' : mean_confidence_interval(auc)[2], 'train_acc' : np.mean(acc), 'train_rec' : np.mean(rec), 'train_pre' : np.mean(pre)}"
      ],
      "execution_count": 123,
      "outputs": []
    },
    {
      "cell_type": "code",
      "metadata": {
        "id": "fjYxaz43Dd_k"
      },
      "source": [
        ""
      ],
      "execution_count": null,
      "outputs": []
    },
    {
      "cell_type": "code",
      "metadata": {
        "id": "BYL-yOo3Dd_k"
      },
      "source": [
        "test_dict = {'test_auc' : test_auc,'test_acc' : test_auc, 'test_rec' : test_rec, 'test_pre' : test_pre}"
      ],
      "execution_count": 124,
      "outputs": []
    },
    {
      "cell_type": "code",
      "metadata": {
        "id": "rOozztiSDd_k"
      },
      "source": [
        "train_df = pd.DataFrame(train_dict.values(), train_dict.keys()).T\n",
        "test_df = pd.DataFrame(test_dict.values(), test_dict.keys()).T"
      ],
      "execution_count": 125,
      "outputs": []
    },
    {
      "cell_type": "code",
      "metadata": {
        "colab": {
          "base_uri": "https://localhost:8080/",
          "height": 100
        },
        "id": "B73DSjXJDd_k",
        "outputId": "8717c777-58ce-48d5-8302-d2dd25f9793d"
      },
      "source": [
        "df = pd.concat([train_df, test_df], axis=1)\n",
        "df"
      ],
      "execution_count": 126,
      "outputs": [
        {
          "output_type": "execute_result",
          "data": {
            "text/html": [
              "<div>\n",
              "<style scoped>\n",
              "    .dataframe tbody tr th:only-of-type {\n",
              "        vertical-align: middle;\n",
              "    }\n",
              "\n",
              "    .dataframe tbody tr th {\n",
              "        vertical-align: top;\n",
              "    }\n",
              "\n",
              "    .dataframe thead th {\n",
              "        text-align: right;\n",
              "    }\n",
              "</style>\n",
              "<table border=\"1\" class=\"dataframe\">\n",
              "  <thead>\n",
              "    <tr style=\"text-align: right;\">\n",
              "      <th></th>\n",
              "      <th>train_auc</th>\n",
              "      <th>train_auc_95lower</th>\n",
              "      <th>train_auc_95upper</th>\n",
              "      <th>train_acc</th>\n",
              "      <th>train_rec</th>\n",
              "      <th>train_pre</th>\n",
              "      <th>test_auc</th>\n",
              "      <th>test_acc</th>\n",
              "      <th>test_rec</th>\n",
              "      <th>test_pre</th>\n",
              "    </tr>\n",
              "  </thead>\n",
              "  <tbody>\n",
              "    <tr>\n",
              "      <th>0</th>\n",
              "      <td>0.566746</td>\n",
              "      <td>0.529595</td>\n",
              "      <td>0.603897</td>\n",
              "      <td>0.206439</td>\n",
              "      <td>0.545065</td>\n",
              "      <td>0.568418</td>\n",
              "      <td>0.624864</td>\n",
              "      <td>0.624864</td>\n",
              "      <td>0.62069</td>\n",
              "      <td>0.622206</td>\n",
              "    </tr>\n",
              "  </tbody>\n",
              "</table>\n",
              "</div>"
            ],
            "text/plain": [
              "   train_auc  train_auc_95lower  ...  test_rec  test_pre\n",
              "0   0.566746           0.529595  ...   0.62069  0.622206\n",
              "\n",
              "[1 rows x 10 columns]"
            ]
          },
          "metadata": {},
          "execution_count": 126
        }
      ]
    },
    {
      "cell_type": "code",
      "metadata": {
        "id": "ir2iuJE_Dd_l"
      },
      "source": [
        ""
      ],
      "execution_count": null,
      "outputs": []
    },
    {
      "cell_type": "markdown",
      "metadata": {
        "id": "bJQP0pkzIcbF"
      },
      "source": [
        "여기부터 multilabel\n"
      ]
    },
    {
      "cell_type": "code",
      "metadata": {
        "id": "zGRmdO6XRGLF"
      },
      "source": [
        ""
      ],
      "execution_count": null,
      "outputs": []
    }
  ]
}